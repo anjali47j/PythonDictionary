{
 "cells": [
  {
   "cell_type": "code",
   "execution_count": 1,
   "metadata": {},
   "outputs": [],
   "source": [
    "import pandas as pd\n",
    "import json"
   ]
  },
  {
   "cell_type": "code",
   "execution_count": 2,
   "metadata": {},
   "outputs": [],
   "source": [
    "data=json.load(open(\"dictionary.json\"))"
   ]
  },
  {
   "cell_type": "code",
   "execution_count": 4,
   "metadata": {},
   "outputs": [],
   "source": [
    "#Now how to match close word that user type like google\n",
    "#for this we need to import diflfib\n",
    "import difflib\n",
    "from difflib import get_close_matches"
   ]
  },
  {
   "cell_type": "code",
   "execution_count": null,
   "metadata": {},
   "outputs": [
    {
     "name": "stdout",
     "output_type": "stream",
     "text": [
      "Enter word:-cracker\n"
     ]
    }
   ],
   "source": [
    "def dictionary(word):\n",
    "    word=word.lower()\n",
    "    if word in data:\n",
    "        return data[word]\n",
    "    elif word.title() in data:\n",
    "        return data[word.title()]\n",
    "    elif word.upper() in data:\n",
    "        return data[word.upper]\n",
    "    elif len(get_close_matches(word,data.keys())) > 0:\n",
    "        action= input (\"Did you mean %s insten? [Yes or No]\" %get_close_matches(word,data.keys())[0])\n",
    "        if (action == \"Yes\"):\n",
    "            return data[get_close_matches(word, data.keys())[0]]\n",
    "        elif (action == \"No\"):\n",
    "            return (\"The word doesn't exist, yet.\")\n",
    "        else:\n",
    "            return (\"We don't understand your entry. Apologies.\")\n",
    "\n",
    "    \n",
    "#now take input from user \n",
    "word_user=input(\"Enter word:-\")\n",
    "output=dictionary(word_user)\n",
    "if type(output)== list:\n",
    "    for item in output:\n",
    "        print(\"-\",item)\n",
    "else:\n",
    "    print(\"-\",output)\n",
    "\n",
    "\n",
    "  "
   ]
  },
  {
   "cell_type": "code",
   "execution_count": null,
   "metadata": {},
   "outputs": [],
   "source": []
  }
 ],
 "metadata": {
  "kernelspec": {
   "display_name": "Python 3",
   "language": "python",
   "name": "python3"
  },
  "language_info": {
   "codemirror_mode": {
    "name": "ipython",
    "version": 3
   },
   "file_extension": ".py",
   "mimetype": "text/x-python",
   "name": "python",
   "nbconvert_exporter": "python",
   "pygments_lexer": "ipython3",
   "version": "3.6.4"
  }
 },
 "nbformat": 4,
 "nbformat_minor": 2
}
