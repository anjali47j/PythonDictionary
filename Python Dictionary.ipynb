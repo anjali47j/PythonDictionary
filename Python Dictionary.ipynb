{
 "cells": [
  {
   "cell_type": "markdown",
   "metadata": {},
   "source": [
    "# Create Dictionary using Python"
   ]
  },
  {
   "cell_type": "code",
   "execution_count": 31,
   "metadata": {},
   "outputs": [],
   "source": [
    "import pandas as pd\n",
    "import json"
   ]
  },
  {
   "cell_type": "code",
   "execution_count": 32,
   "metadata": {},
   "outputs": [
    {
     "data": {
      "text/plain": [
       "dict"
      ]
     },
     "execution_count": 32,
     "metadata": {},
     "output_type": "execute_result"
    }
   ],
   "source": [
    "# Here json.load() method is used to reads the string from the file and parses the JSON data.\n",
    "data=json.load(open('dictionary.json'))\n",
    "type(data) # we can also check the Data Type of variable \"data\""
   ]
  },
  {
   "cell_type": "markdown",
   "metadata": {},
   "source": [
    "Above output show that variable \"data\" store value in dictionary format (it is a data type in python)\n",
    "\n",
    "Now we have data so, let's code to find the meaning of words\n",
    "\n",
    "For this we need some module of Python."
   ]
  },
  {
   "cell_type": "code",
   "execution_count": 33,
   "metadata": {},
   "outputs": [],
   "source": [
    "import difflib #difflib compare the strings to find match close word that user type\n",
    "from difflib import get_close_matches"
   ]
  },
  {
   "cell_type": "code",
   "execution_count": 34,
   "metadata": {},
   "outputs": [
    {
     "name": "stdout",
     "output_type": "stream",
     "text": [
      "Enter your word here :-Science\n",
      "- The study of the physical universe and its contents by means of reproducible observations, measurements, and experiments to establish, verify, or modify general laws to explain its nature and behaviour.\n"
     ]
    }
   ],
   "source": [
    "def dictionary(word):\n",
    "    word=word.lower()    #Converting all letters to lower case\n",
    "    if word in data:     # it is a condition to check word present in data or not\n",
    "        return data[word]  # if word present then return the word\n",
    "    elif word.upper() in data: #return the definition of acronyms\n",
    "        return data[word.upper()]\n",
    "    elif word.title() in data:   #return the definition of words that start with a capital letter\n",
    "        return data[word.title()]\n",
    "    elif len(get_close_matches(word,data.keys())) > 0: # method used to get close match of user word\n",
    "        action= input (\"Did you mean %s insten? [Yes or No]\" %get_close_matches(word,data.keys())[0])\n",
    "        if (action == \"Yes\"):\n",
    "            return data[get_close_matches(word, data.keys())[0]]\n",
    "        elif (action == \"No\"):\n",
    "            return (\"Apologies,word that you enter doesn't exist in our dictionry :(\")\n",
    "        else:\n",
    "            return (\"Sorry:( You enter wrong response you should enter [Yes or No]...Please try again\")\n",
    "        \n",
    "#take input from user \n",
    "word_user=input(\"Enter your word here :-\")\n",
    "output=dictionary(word_user)\n",
    "if type(output)== list:\n",
    "    for item in output:\n",
    "        print(\"-\",item)\n",
    "else:\n",
    "    print(\"-\",output)        "
   ]
  },
  {
   "cell_type": "code",
   "execution_count": 35,
   "metadata": {},
   "outputs": [
    {
     "name": "stdout",
     "output_type": "stream",
     "text": [
      "Enter your word here:-enth\n",
      "Did you mean tenth insten? [Yes or No]No\n",
      "- Apologies,word that you enter doesn't exist in our dictionry :(\n"
     ]
    }
   ],
   "source": [
    "def dictionary(word):\n",
    "    word=word.lower()    #Converting all letters to lower case\n",
    "    if word in data:     # it is a condition to check word present in data or not\n",
    "        return data[word]  # if word present then return the word\n",
    "    elif word.upper() in data: #return the definition of acronyms\n",
    "        return data[word.upper()]\n",
    "    elif word.title() in data:   #return the definition of words that start with a capital letter\n",
    "        return data[word.title()]\n",
    "    elif len(get_close_matches(word,data.keys())) > 0: # method used to get close match of user word\n",
    "        action= input (\"Did you mean %s insten? [Yes or No]\" %get_close_matches(word,data.keys())[0])\n",
    "        if (action == \"Yes\"):\n",
    "            return data[get_close_matches(word, data.keys())[0]]\n",
    "        elif (action == \"No\"):\n",
    "            return (\"Apologies,word that you enter doesn't exist in our dictionry :(\")\n",
    "        else:\n",
    "            return (\"Sorry:( You enter wrong response you should enter [Yes or No]...Please try again\")\n",
    "        \n",
    "#take input from user \n",
    "word_user=input(\"Enter your word here:-\")\n",
    "output=dictionary(word_user)\n",
    "if type(output)== list:\n",
    "    for item in output:\n",
    "        print(\"-\",item)\n",
    "else:\n",
    "    print(\"-\",output)"
   ]
  },
  {
   "cell_type": "code",
   "execution_count": 36,
   "metadata": {},
   "outputs": [
    {
     "name": "stdout",
     "output_type": "stream",
     "text": [
      "Enter your word here:-enthuize\n",
      "Did you mean enthuse insten? [Yes or No]Yes\n",
      "- To be enthusiastic.\n",
      "- To fill with enthusiasm.\n"
     ]
    }
   ],
   "source": [
    "def dictionary(word):\n",
    "    word=word.lower()    #Converting all letters to lower case\n",
    "    if word in data:     # it is a condition to check word present in data or not\n",
    "        return data[word]  # if word present then return the word\n",
    "    elif word.upper() in data: #return the definition of acronyms\n",
    "        return data[word.upper()]\n",
    "    elif word.title() in data:   #return the definition of words that start with a capital letter\n",
    "        return data[word.title()]\n",
    "    elif len(get_close_matches(word,data.keys())) > 0: # method used to get close match of user word\n",
    "        action= input (\"Did you mean %s insten? [Yes or No]\" %get_close_matches(word,data.keys())[0])\n",
    "        if (action == \"Yes\"):\n",
    "            return data[get_close_matches(word, data.keys())[0]]\n",
    "        elif (action == \"No\"):\n",
    "            return (\"Apologies,word that you enter doesn't exist in our dictionry :(\")\n",
    "        else:\n",
    "            return (\"Sorry:( You enter wrong response you should enter [Yes or No]...Please try again\")\n",
    "        \n",
    "#take input from user \n",
    "word_user=input(\"Enter your word here:-\")\n",
    "output=dictionary(word_user)\n",
    "if type(output)== list:\n",
    "    for item in output:\n",
    "        print(\"-\",item)\n",
    "else:\n",
    "    print(\"-\",output)"
   ]
  },
  {
   "cell_type": "code",
   "execution_count": null,
   "metadata": {},
   "outputs": [],
   "source": []
  }
 ],
 "metadata": {
  "kernelspec": {
   "display_name": "Python 3",
   "language": "python",
   "name": "python3"
  },
  "language_info": {
   "codemirror_mode": {
    "name": "ipython",
    "version": 3
   },
   "file_extension": ".py",
   "mimetype": "text/x-python",
   "name": "python",
   "nbconvert_exporter": "python",
   "pygments_lexer": "ipython3",
   "version": "3.6.5"
  }
 },
 "nbformat": 4,
 "nbformat_minor": 2
}
